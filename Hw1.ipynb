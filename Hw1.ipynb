{
 "cells": [
  {
   "cell_type": "code",
   "execution_count": 3,
   "id": "9be08ee0-2dfd-486d-a581-0af0500c5ccb",
   "metadata": {},
   "outputs": [
    {
     "name": "stdout",
     "output_type": "stream",
     "text": [
      "[ 1  2  3  4  5  6  7  8  9 10]\n"
     ]
    }
   ],
   "source": [
    "import numpy as np\n",
    "\n",
    "natural_numbers = np.arange(1, 11)\n",
    "print(natural_numbers)"
   ]
  },
  {
   "cell_type": "code",
   "execution_count": 30,
   "id": "c1473dd2-6eba-4e1b-94f6-17966a2d8cbf",
   "metadata": {},
   "outputs": [
    {
     "name": "stdout",
     "output_type": "stream",
     "text": [
      "[[0. 0. 0.]\n",
      " [0. 0. 0.]\n",
      " [0. 0. 0.]]\n"
     ]
    }
   ],
   "source": [
    "# matr = np.array([[0,0,0],[0,0,0],[0,0,0]], dtype = int)\n",
    "matr = np.zeros((3, 3))\n",
    "print(matr)"
   ]
  },
  {
   "cell_type": "code",
   "execution_count": 7,
   "id": "2813d6b0-8255-4902-bcea-13750d9eafe0",
   "metadata": {},
   "outputs": [
    {
     "name": "stdout",
     "output_type": "stream",
     "text": [
      "[[ 7 10 10  5 10]\n",
      " [10  2  5  7  2]\n",
      " [ 5  8  2  4  5]\n",
      " [ 8  4  3  3  1]\n",
      " [ 2  1  1  4  3]]\n"
     ]
    }
   ],
   "source": [
    "matr = np.random.randint(1, 11, size=(5, 5))\n",
    "print(matr)"
   ]
  },
  {
   "cell_type": "code",
   "execution_count": 8,
   "id": "12056b90-991a-4cd4-93c6-b6b036275483",
   "metadata": {},
   "outputs": [
    {
     "name": "stdout",
     "output_type": "stream",
     "text": [
      "[[0.36756065 0.32532341 0.77789992 0.57227734]\n",
      " [0.79613125 0.76487867 0.49713434 0.75593148]\n",
      " [0.34567133 0.75455411 0.77099946 0.86341041]\n",
      " [0.54460478 0.41400474 0.13875774 0.14806056]]\n"
     ]
    }
   ],
   "source": [
    "matr = np.random.rand(4, 4)\n",
    "print(matr)"
   ]
  },
  {
   "cell_type": "code",
   "execution_count": 13,
   "id": "ca4ce364-c312-4504-95e8-cf6141d766da",
   "metadata": {},
   "outputs": [
    {
     "name": "stdout",
     "output_type": "stream",
     "text": [
      "Array 1:\n",
      " [8 4 1 9 5]\n",
      "Array 2:\n",
      " [ 7  9  2 10  8]\n",
      "Sum of Array 1 and 2 (Array 3):\n",
      " [15 13  3 19 13]\n",
      "Sub of Array 1 and 2 (Array 3):\n",
      " [ 1 -5 -1 -1 -3]\n",
      "Mult of Array 1 and 2 (Array 3):\n",
      " [56 36  2 90 40]\n"
     ]
    }
   ],
   "source": [
    "a1 = np.random.randint(1,11, size=(5))\n",
    "a2 = np.random.randint(1,11, size=(5))\n",
    "\n",
    "a3 = a1 + a2\n",
    "np.set_printoptions(precision=2, suppress=True)\n",
    "\n",
    "print(\"Array 1:\\n\", a1)\n",
    "print(\"Array 2:\\n\", a2)\n",
    "print(\"Sum of Array 1 and 2 (Array 3):\\n\", a3)\n",
    "a3 = a1 - a2\n",
    "print(\"Sub of Array 1 and 2 (Array 3):\\n\", a3)\n",
    "a3 = a1 * a2\n",
    "print(\"Mult of Array 1 and 2 (Array 3):\\n\", a3)"
   ]
  },
  {
   "cell_type": "code",
   "execution_count": 15,
   "id": "2913d3a8-2176-4dcd-a8f6-0073f68c9294",
   "metadata": {},
   "outputs": [
    {
     "name": "stdout",
     "output_type": "stream",
     "text": [
      "Scalar Product: 170\n"
     ]
    }
   ],
   "source": [
    "v1 = np.random.randint(1,11, size=(7))\n",
    "v2 = np.random.randint(1,11, size=(7))\n",
    "\n",
    "v3 = np.dot(v1, v2)\n",
    "\n",
    "print(\"Scalar Product:\", v3)"
   ]
  },
  {
   "cell_type": "code",
   "execution_count": 17,
   "id": "5804d805-ddc0-4963-9e7b-912f65c03c17",
   "metadata": {},
   "outputs": [
    {
     "name": "stdout",
     "output_type": "stream",
     "text": [
      "Matrix 1:\n",
      " [[6 1]\n",
      " [9 6]]\n",
      "Matrix 2:\n",
      " [[1 7 5]\n",
      " [8 9 5]]\n",
      "Mult of Matrix 1 and 2 (Matrix 3):\n",
      " [56 36  2 90 40]\n"
     ]
    }
   ],
   "source": [
    "m1 = np.random.randint(1,11, size=(2,2))\n",
    "m2 = np.random.randint(1,11, size=(2,3))\n",
    "\n",
    "m3 = np.dot(m1,m2)\n",
    "\n",
    "print(\"Matrix 1:\\n\", m1)\n",
    "print(\"Matrix 2:\\n\", m2)\n",
    "print(\"Mult of Matrix 1 and 2 (Matrix 3):\\n\", a3)"
   ]
  },
  {
   "cell_type": "code",
   "execution_count": 20,
   "id": "3ed56872-ad20-4738-a828-6b3786c9f860",
   "metadata": {},
   "outputs": [
    {
     "name": "stdout",
     "output_type": "stream",
     "text": [
      "Matrix: [[ 7  4  2]\n",
      " [ 9 10  6]\n",
      " [ 7  5  4]]\n",
      "Invert matrix : [[ 0.23 -0.14  0.09]\n",
      " [ 0.14  0.32 -0.55]\n",
      " [-0.57 -0.16  0.77]]\n"
     ]
    }
   ],
   "source": [
    "mat = np.random.randint(1,11, size=(3,3))\n",
    "\n",
    "mat_inv = np.linalg.inv(mat)\n",
    "print('Matrix:',mat)\n",
    "print('Invert matrix :', mat_inv)"
   ]
  },
  {
   "cell_type": "code",
   "execution_count": 21,
   "id": "75d7aa1e-806b-44de-a473-7f52b8a6067f",
   "metadata": {},
   "outputs": [
    {
     "name": "stdout",
     "output_type": "stream",
     "text": [
      "Matrix: [[0.75 0.02 0.97 0.46]\n",
      " [0.03 0.34 0.72 0.41]\n",
      " [0.22 0.85 0.86 0.55]\n",
      " [0.48 0.37 0.79 0.88]]\n",
      "Transpose matrix : [[0.75 0.03 0.22 0.48]\n",
      " [0.02 0.34 0.85 0.37]\n",
      " [0.97 0.72 0.86 0.79]\n",
      " [0.46 0.41 0.55 0.88]]\n"
     ]
    }
   ],
   "source": [
    "mat = np.random.rand(4, 4)\n",
    "\n",
    "mat_t = mat.T\n",
    "\n",
    "print('Matrix:',mat)\n",
    "print('Transpose matrix :', mat_t)"
   ]
  },
  {
   "cell_type": "code",
   "execution_count": 23,
   "id": "52288862-089e-45a7-9b7b-9d9571bebb44",
   "metadata": {},
   "outputs": [
    {
     "name": "stdout",
     "output_type": "stream",
     "text": [
      "Matrix:\n",
      " [[10  3  4  4]\n",
      " [ 2  4  6  3]\n",
      " [ 7 10  7  5]]\n",
      "Vector:\n",
      " [5 6 2 8]\n",
      "Result of Multiplication:\n",
      " [108  70 149]\n"
     ]
    }
   ],
   "source": [
    "m = np.random.randint(1, 11, size=(3, 4))\n",
    "v = np.random.randint(1, 11, size=4)\n",
    "\n",
    "r = np.dot(m, v)\n",
    "\n",
    "print(\"Matrix:\\n\", m)\n",
    "print(\"Vector:\\n\", v)\n",
    "print(\"Result of Multiplication:\\n\", r)\n"
   ]
  },
  {
   "cell_type": "code",
   "execution_count": 24,
   "id": "f3e6d0ac-b23b-4af6-9c38-be47250e5f2b",
   "metadata": {},
   "outputs": [
    {
     "name": "stdout",
     "output_type": "stream",
     "text": [
      "Matrix:\n",
      " [[0.55 0.43 0.65]\n",
      " [0.26 0.69 0.27]]\n",
      "Vector:\n",
      " [0.46 0.3  0.79]\n",
      "Result of Multiplication:\n",
      " [0.9  0.54]\n"
     ]
    }
   ],
   "source": [
    "m = np.random.rand(2, 3)\n",
    "v = np.random.rand(3)\n",
    "\n",
    "r = np.dot(m, v)\n",
    "\n",
    "print(\"Matrix:\\n\", m)\n",
    "print(\"Vector:\\n\", v)\n",
    "print(\"Result of Multiplication:\\n\", r)"
   ]
  },
  {
   "cell_type": "code",
   "execution_count": 26,
   "id": "6be27454-c83e-4e6c-be2a-9a5ac317e900",
   "metadata": {},
   "outputs": [
    {
     "name": "stdout",
     "output_type": "stream",
     "text": [
      "Matrix:\n",
      " [[5 2]\n",
      " [2 7]]\n",
      "Vector:\n",
      " [[8 1]\n",
      " [3 1]]\n",
      "Result of Multiplication element to element:\n",
      " [[40  2]\n",
      " [ 6  7]]\n"
     ]
    }
   ],
   "source": [
    "m1 = np.random.randint(1, 11, size=(2, 2))\n",
    "m2 = np.random.randint(1, 11, size=(2, 2))\n",
    "\n",
    "print(\"Matrix:\\n\", m1)\n",
    "print(\"Vector:\\n\", m2)\n",
    "print(\"Result of Multiplication element to element:\\n\", m1 * m2)"
   ]
  },
  {
   "cell_type": "code",
   "execution_count": 27,
   "id": "4f7de4e4-0801-4d80-8420-f1062de2e280",
   "metadata": {},
   "outputs": [
    {
     "name": "stdout",
     "output_type": "stream",
     "text": [
      "Matrix:\n",
      " [[9 1]\n",
      " [4 9]]\n",
      "Vector:\n",
      " [[3 6]\n",
      " [4 6]]\n",
      "Result of Multiplication:\n",
      " [[31 60]\n",
      " [48 78]]\n"
     ]
    }
   ],
   "source": [
    "m1 = np.random.randint(1, 11, size=(2, 2))\n",
    "m2 = np.random.randint(1, 11, size=(2, 2))\n",
    "\n",
    "print(\"Matrix:\\n\", m1)\n",
    "print(\"Vector:\\n\", m2)\n",
    "print(\"Result of Multiplication:\\n\", np.dot(m1, m2))"
   ]
  },
  {
   "cell_type": "code",
   "execution_count": 29,
   "id": "65237b68-0eae-4c80-9b9d-89dd193ad2ac",
   "metadata": {},
   "outputs": [
    {
     "name": "stdout",
     "output_type": "stream",
     "text": [
      "Matrix:\n",
      " [[58 90 92 66 42]\n",
      " [86 55 78 70 81]\n",
      " [61 20  2 36 48]\n",
      " [14 67 39 76  7]\n",
      " [69  7 15 46 35]]\n",
      "Sum of all elements: 1260\n"
     ]
    }
   ],
   "source": [
    "matrix = np.random.randint(1, 101, size=(5, 5))\n",
    "sum_of_elements = np.sum(matrix)\n",
    "print(\"Matrix:\\n\", matrix)\n",
    "print(\"Sum of all elements:\", sum_of_elements)"
   ]
  },
  {
   "cell_type": "code",
   "execution_count": 31,
   "id": "e0225082-8f80-411e-98f0-53f3c4fd36d5",
   "metadata": {},
   "outputs": [
    {
     "name": "stdout",
     "output_type": "stream",
     "text": [
      "Matrix 1:\n",
      " [[ 2  4  9  1]\n",
      " [ 2  9 10  4]\n",
      " [ 3  6  7  1]\n",
      " [ 3  9  9  5]]\n",
      "Matrix 2:\n",
      " [[ 4  2  6  2]\n",
      " [ 6  9  1 10]\n",
      " [ 4  5  3  4]\n",
      " [ 3  8  6  9]]\n",
      "Difference (Matrix 1 - Matrix 2):\n",
      " [[-2  2  3 -1]\n",
      " [-4  0  9 -6]\n",
      " [-1  1  4 -3]\n",
      " [ 0  1  3 -4]]\n"
     ]
    }
   ],
   "source": [
    "matrix1 = np.random.randint(1, 11, size=(4, 4))\n",
    "matrix2 = np.random.randint(1, 11, size=(4, 4))\n",
    "\n",
    "difference = matrix1 - matrix2\n",
    "\n",
    "print(\"Matrix 1:\\n\", matrix1)\n",
    "print(\"Matrix 2:\\n\", matrix2)\n",
    "print(\"Difference (Matrix 1 - Matrix 2):\\n\", difference)"
   ]
  },
  {
   "cell_type": "code",
   "execution_count": 32,
   "id": "ec85ad55-799c-4320-b49c-39a4f4211331",
   "metadata": {},
   "outputs": [
    {
     "name": "stdout",
     "output_type": "stream",
     "text": [
      "Matrix:\n",
      " [[0.37 0.48 0.14]\n",
      " [0.28 0.19 0.82]\n",
      " [0.4  0.6  0.01]]\n",
      "Column Vector (Sum of each row):\n",
      " [[0.99]\n",
      " [1.29]\n",
      " [1.01]]\n"
     ]
    }
   ],
   "source": [
    "\n",
    "matrix = np.random.rand(3, 3)\n",
    "row_sums = np.sum(matrix, axis=1)\n",
    "column_vector = row_sums.reshape(-1, 1)\n",
    "\n",
    "print(\"Matrix:\\n\", matrix)\n",
    "print(\"Column Vector (Sum of each row):\\n\", column_vector)"
   ]
  },
  {
   "cell_type": "code",
   "execution_count": 33,
   "id": "e3c3eef8-ae0e-4cca-a396-22c0259b750f",
   "metadata": {},
   "outputs": [
    {
     "name": "stdout",
     "output_type": "stream",
     "text": [
      "Original Matrix:\n",
      " [[ 4  3 10  7]\n",
      " [ 5  2  4  7]\n",
      " [ 7  1  1  8]]\n",
      "Squared Matrix:\n",
      " [[ 16   9 100  49]\n",
      " [ 25   4  16  49]\n",
      " [ 49   1   1  64]]\n"
     ]
    }
   ],
   "source": [
    "matrix = np.random.randint(1, 11, size=(3, 4))\n",
    "squared_matrix = np.square(matrix)\n",
    "\n",
    "print(\"Original Matrix:\\n\", matrix)\n",
    "print(\"Squared Matrix:\\n\", squared_matrix)"
   ]
  },
  {
   "cell_type": "code",
   "execution_count": 34,
   "id": "7e4171d5-9cbc-43f3-830b-df8d7d59555c",
   "metadata": {},
   "outputs": [
    {
     "name": "stdout",
     "output_type": "stream",
     "text": [
      "Original Vector: [ 6 45 44 17]\n",
      "Square Root Vector: [2.45 6.71 6.63 4.12]\n"
     ]
    }
   ],
   "source": [
    "vector = np.random.randint(1, 51, size=4)\n",
    "sqrt_vector = np.sqrt(vector)\n",
    "\n",
    "print(\"Original Vector:\", vector)\n",
    "print(\"Square Root Vector:\", sqrt_vector)"
   ]
  },
  {
   "cell_type": "code",
   "execution_count": null,
   "id": "59ea0987-417c-447e-9864-d883481a9239",
   "metadata": {},
   "outputs": [],
   "source": []
  }
 ],
 "metadata": {
  "kernelspec": {
   "display_name": "Python 3 (ipykernel)",
   "language": "python",
   "name": "python3"
  },
  "language_info": {
   "codemirror_mode": {
    "name": "ipython",
    "version": 3
   },
   "file_extension": ".py",
   "mimetype": "text/x-python",
   "name": "python",
   "nbconvert_exporter": "python",
   "pygments_lexer": "ipython3",
   "version": "3.10.11"
  }
 },
 "nbformat": 4,
 "nbformat_minor": 5
}
